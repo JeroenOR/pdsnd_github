{
 "cells": [
  {
   "cell_type": "code",
   "execution_count": null,
   "id": "16e89c47",
   "metadata": {},
   "outputs": [],
   "source": [
    "import time\n",
    "import pandas as pd\n",
    "import numpy as np\n"
   ]
  },
  {
   "cell_type": "code",
   "execution_count": null,
   "id": "54c6c02a",
   "metadata": {},
   "outputs": [],
   "source": [
    "CITY_DATA = { 'chicago': 'chicago.csv',\n",
    "              'new york city': 'new_york_city.csv',\n",
    "              'washington': 'washington.csv' }"
   ]
  },
  {
   "cell_type": "code",
   "execution_count": null,
   "id": "4ea82476",
   "metadata": {},
   "outputs": [],
   "source": [
    "df = pd.read_csv(CITY_DATA['chicago'])"
   ]
  },
  {
   "cell_type": "code",
   "execution_count": null,
   "id": "f925db54",
   "metadata": {},
   "outputs": [],
   "source": [
    "def get_filters():\n",
    "    \"\"\"\n",
    "    Asks user to specify a city, month, and day to analyze.\n",
    "\n",
    "    Returns:\n",
    "        (str) city - name of the city to analyze\n",
    "        (str) month - name of the month to filter by, or \"all\" to apply no month filter\n",
    "        (str) day - name of the day of week to filter by, or \"all\" to apply no day filter\n",
    "    \"\"\"\n",
    "    print('Hello! Let\\'s explore some US bikeshare data!')\n",
    "    # get user input for city (chicago, new york city, washington). HINT: Use a while loop to handle invalid inputs\n",
    "    while True:\n",
    "        city = input('\\nWich city would you like to see: \"washington\", \"new york\", \"chicago\\n').lower()\n",
    "        if city not in CITY_DATA.keys():\n",
    "            print('wrong input please choose one of the following options washington, new york, chicago in lower case')\n",
    "            break\n",
    "        month  = input('please specify one of the following months (january, february, march, april, may, june).\\n Select \"all\" for no specification\\n').lower()\n",
    "        month_list = ['january', 'february', 'march', 'april', 'may', 'june','all']\n",
    "        if month not in month_list:\n",
    "            print('wrong input please choose one of the following options (january, february, march, april, may, june).\\n Select \"all\" for no specification')\n",
    "            break\n",
    "    # get user input for month (all, january, february, ... , june)\n",
    "\n",
    "\n",
    "    # get user input for day of week (all, monday, tuesday, ... sunday)\n",
    "\n",
    "\n",
    "    print('-'*40)\n",
    "    return city, month, day\n",
    "    break\n",
    "                    \n",
    "get_filters(city)"
   ]
  },
  {
   "cell_type": "code",
   "execution_count": null,
   "id": "cb93cf17",
   "metadata": {},
   "outputs": [],
   "source": []
  },
  {
   "cell_type": "code",
   "execution_count": null,
   "id": "579737ff",
   "metadata": {},
   "outputs": [],
   "source": []
  }
 ],
 "metadata": {
  "kernelspec": {
   "display_name": "Python 3 (ipykernel)",
   "language": "python",
   "name": "python3"
  },
  "language_info": {
   "codemirror_mode": {
    "name": "ipython",
    "version": 3
   },
   "file_extension": ".py",
   "mimetype": "text/x-python",
   "name": "python",
   "nbconvert_exporter": "python",
   "pygments_lexer": "ipython3",
   "version": "3.9.12"
  }
 },
 "nbformat": 4,
 "nbformat_minor": 5
}
